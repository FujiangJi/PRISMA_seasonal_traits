{
 "cells": [
  {
   "cell_type": "code",
   "execution_count": 2,
   "id": "3ef067c3",
   "metadata": {
    "execution": {
     "iopub.execute_input": "2024-08-19T17:08:37.862509Z",
     "iopub.status.busy": "2024-08-19T17:08:37.862022Z",
     "iopub.status.idle": "2024-08-19T17:08:37.876837Z",
     "shell.execute_reply": "2024-08-19T17:08:37.875855Z",
     "shell.execute_reply.started": "2024-08-19T17:08:37.862472Z"
    }
   },
   "outputs": [],
   "source": [
    "import os\n",
    "import pandas as pd\n",
    "import numpy as np\n",
    "import json\n",
    "from osgeo import gdal, osr\n",
    "import warnings\n",
    "from datetime import datetime\n",
    "from multiprocessing import Pool\n",
    "from joblib import Parallel, delayed\n",
    "from functools import partial\n",
    "from datetime import datetime\n",
    "import matplotlib.pyplot as plt\n",
    "import psutil\n",
    "from PIL import Image\n",
    "warnings.filterwarnings(\"ignore\")\n",
    "\n",
    "def read_tif(tif_file):\n",
    "    dataset = gdal.Open(tif_file)\n",
    "    cols = dataset.RasterXSize\n",
    "    rows = dataset.RasterYSize\n",
    "    im_proj = (dataset.GetProjection())\n",
    "    im_Geotrans = (dataset.GetGeoTransform())\n",
    "    im_data = np.moveaxis(dataset.ReadAsArray(0, 0, cols, rows), 0, -1)\n",
    "    return im_data, im_Geotrans, im_proj,rows, cols\n",
    "\n",
    "def array_to_geotiff(array, output_path, geo_transform, projection, band_names=None):\n",
    "    rows, cols, num_bands = array.shape\n",
    "    driver = gdal.GetDriverByName('GTiff')\n",
    "    dataset = driver.Create(output_path, cols, rows, num_bands, gdal.GDT_Float32)\n",
    "    \n",
    "    dataset.SetGeoTransform(geo_transform)\n",
    "    dataset.SetProjection(projection)\n",
    "    \n",
    "    for band_num in range(num_bands):\n",
    "        band = dataset.GetRasterBand(band_num + 1)\n",
    "        band.WriteArray(array[:, :, band_num])\n",
    "        band.FlushCache()\n",
    "        \n",
    "        if band_names:\n",
    "            band.SetDescription(band_names[band_num])\n",
    "    \n",
    "    dataset = None\n",
    "    band = None\n",
    "    return\n",
    "def set_nan_around_nan(arr, radius=3):\n",
    "    nan_indices = np.isnan(arr)\n",
    "    nan_x, nan_y = np.where(nan_indices)\n",
    "    for x, y in zip(nan_x, nan_y):\n",
    "        x_start = max(0, x - radius)\n",
    "        x_end = min(arr.shape[0], x + radius + 1)\n",
    "        y_start = max(0, y - radius)\n",
    "        y_end = min(arr.shape[1], y + radius + 1)\n",
    "        arr[x_start:x_end, y_start:y_end][np.logical_not(nan_indices[x_start:x_end, y_start:y_end])] = np.nan\n",
    "    return arr"
   ]
  },
  {
   "cell_type": "code",
   "execution_count": 3,
   "id": "816d4b37-c6d1-4f2c-8333-c34084ada154",
   "metadata": {
    "execution": {
     "iopub.execute_input": "2024-04-12T19:20:50.476238Z",
     "iopub.status.busy": "2024-04-12T19:20:50.475724Z",
     "iopub.status.idle": "2024-04-12T19:35:22.044063Z",
     "shell.execute_reply": "2024-04-12T19:35:22.043743Z",
     "shell.execute_reply.started": "2024-04-12T19:20:50.476182Z"
    }
   },
   "outputs": [
    {
     "name": "stdout",
     "output_type": "stream",
     "text": [
      "D01_BART\n",
      "D01_HARV\n",
      "D02_SCBI\n",
      "D03_OSBS\n",
      "D07_MLBS\n",
      "D07_ORNL\n",
      "D08_TALL\n",
      "D10_CPER\n",
      "D13_MOAB\n",
      "D14_JORN\n",
      "D14_SRER\n",
      "D16_WREF\n",
      "D19_BONA\n",
      "D19_HEAL\n"
     ]
    }
   ],
   "source": [
    "prisma_path = \"/Users/fji/Desktop/data/9_PRISMA_imagery_smoothed_tif/\"\n",
    "mask_path = \"/Users/fji/Desktop/data/11_PRISMA_could_mask/\"\n",
    "\n",
    "folders = ['D01_BART','D01_HARV','D02_SCBI','D03_OSBS','D07_MLBS','D07_ORNL','D08_TALL',\n",
    "           'D10_CPER','D13_MOAB','D14_JORN','D14_SRER','D16_WREF','D19_BONA','D19_HEAL']\n",
    "for folder in folders:\n",
    "    os.makedirs(f\"{mask_path}{folder}\", exist_ok=True)\n",
    "\n",
    "for i, folder in enumerate(folders):\n",
    "    print(folder)\n",
    "    prisma_tif_folder = f\"{prisma_path}{folder}/\"\n",
    "    mask_tif_path = f\"{mask_path}{folder}/\"\n",
    "    \n",
    "    file_name = os.listdir(prisma_tif_folder)\n",
    "    file_name = [x for x in file_name if \"_FULL.tif\" in x and \"._\" not in x and \".aux.xml\" not in x]\n",
    "    \n",
    "    for file in file_name:\n",
    "        basename = file.split(\".\")[0]\n",
    "        prisma_tif = f\"{prisma_tif_folder}{file}\"\n",
    "        im_data, im_Geotrans, im_proj,rows, cols = read_tif(prisma_tif)\n",
    "        \n",
    "        condition1 = im_data[:,:,0:20].mean(axis = 2)<0.15\n",
    "        condition2 = im_data[:,:,55:75].mean(axis = 2)>0.2\n",
    "        mask1 = np.where(condition1, 1, np.nan)\n",
    "        mask2 = np.where(condition2, 1, np.nan)\n",
    "        mask = mask1*mask2\n",
    "        mask = set_nan_around_nan(mask)\n",
    "        mask = np.expand_dims(mask, axis=-1)\n",
    "        \n",
    "        output_path = f\"{mask_tif_path}{basename}_mask.tif\"\n",
    "        array_to_geotiff(mask, output_path, im_Geotrans, im_proj, band_names=None)"
   ]
  }
 ],
 "metadata": {
  "kernelspec": {
   "display_name": "Python 3 (ipykernel)",
   "language": "python",
   "name": "python3"
  },
  "language_info": {
   "codemirror_mode": {
    "name": "ipython",
    "version": 3
   },
   "file_extension": ".py",
   "mimetype": "text/x-python",
   "name": "python",
   "nbconvert_exporter": "python",
   "pygments_lexer": "ipython3",
   "version": "3.8.18"
  }
 },
 "nbformat": 4,
 "nbformat_minor": 5
}

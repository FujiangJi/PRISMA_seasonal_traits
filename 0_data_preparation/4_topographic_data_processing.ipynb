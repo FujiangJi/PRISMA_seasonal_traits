{
 "cells": [
  {
   "cell_type": "code",
   "execution_count": 1,
   "id": "5322b9f6-96f3-48dc-9f0d-42827604c490",
   "metadata": {
    "ExecuteTime": {
     "end_time": "2024-05-22T02:48:03.515093Z",
     "start_time": "2024-05-22T02:48:03.509130Z"
    },
    "execution": {
     "iopub.execute_input": "2024-07-11T19:30:19.374069Z",
     "iopub.status.busy": "2024-07-11T19:30:19.373214Z",
     "iopub.status.idle": "2024-07-11T19:30:24.094836Z",
     "shell.execute_reply": "2024-07-11T19:30:24.094560Z",
     "shell.execute_reply.started": "2024-07-11T19:30:19.373979Z"
    }
   },
   "outputs": [],
   "source": [
    "import cartopy.io.shapereader as shpreader\n",
    "import matplotlib.pyplot as plt\n",
    "import geopandas as gpd\n",
    "import numpy as np\n",
    "import pandas as pd\n",
    "import os\n",
    "import sys\n",
    "from osgeo import gdal,ogr, osr\n",
    "import xarray\n",
    "from datetime import datetime\n",
    "import warnings\n",
    "warnings.filterwarnings('ignore')"
   ]
  },
  {
   "cell_type": "markdown",
   "id": "a0fd9ccc-ede0-4154-ab53-1c84b3ec0220",
   "metadata": {},
   "source": [
    "Topographic data: SRTM Digital Elevation Data Version 4\n",
    "* https://developers.google.com/earth-engine/datasets/catalog/CGIAR_SRTM90_V4"
   ]
  },
  {
   "cell_type": "code",
   "execution_count": 8,
   "id": "5cf4a5b1-8969-4201-9fb3-5a228759a4d7",
   "metadata": {
    "execution": {
     "iopub.execute_input": "2024-07-11T19:53:46.451156Z",
     "iopub.status.busy": "2024-07-11T19:53:46.450248Z",
     "iopub.status.idle": "2024-07-11T22:06:44.962033Z",
     "shell.execute_reply": "2024-07-11T22:06:44.959923Z",
     "shell.execute_reply.started": "2024-07-11T19:53:46.451090Z"
    }
   },
   "outputs": [
    {
     "name": "stdout",
     "output_type": "stream",
     "text": [
      "Mosaic created successfully at: /Volumes/ChenLab/Fujiang/0_PhD_dissertation_data/8_topographic_data/1_original_data/Elevation.tif\n",
      "Mosaic created successfully at: /Volumes/ChenLab/Fujiang/0_PhD_dissertation_data/8_topographic_data/1_original_data/Slope.tif\n",
      "Mosaic created successfully at: /Volumes/ChenLab/Fujiang/0_PhD_dissertation_data/8_topographic_data/1_original_data/Aspect.tif\n"
     ]
    }
   ],
   "source": [
    "## Mosaic data\n",
    "data_path = \"/Volumes/ChenLab/Fujiang/0_PhD_dissertation_data/8_topographic_data/1_original_data/\"\n",
    "out_path = \"/Volumes/ChenLab/Fujiang/0_PhD_dissertation_data/8_topographic_data/2_mosaic_data/\"\n",
    "file_lists = os.listdir(data_path)\n",
    "\n",
    "variables = [\"Elevation\", \"Slope\", \"Aspect\"]\n",
    "\n",
    "for var in variables:\n",
    "    data_list = [f\"{data_path}{x}\" for x in file_lists if var in x and \".tif\" in x]\n",
    "    out_tif = f\"{out_path}{var}.tif\"\n",
    "    \n",
    "    options = gdal.WarpOptions(format='GTiff')\n",
    "    mosaic = gdal.Warp(out_tif, data_list, options=options)\n",
    "    mosaic = None \n",
    "    print(\"Mosaic created successfully at:\", out_tif)"
   ]
  },
  {
   "cell_type": "code",
   "execution_count": null,
   "id": "5fa4f1ff-a71e-4048-911e-6f761c482d76",
   "metadata": {},
   "outputs": [],
   "source": [
    "## Mosaic data (Alaska)\n",
    "data_path = \"/Volumes/ChenLab/Fujiang/0_PhD_dissertation_data/8_topographic_data/1_original_data/Alaska/\"\n",
    "out_path = \"/Volumes/ChenLab/Fujiang/0_PhD_dissertation_data/8_topographic_data/2_mosaic_data/\"\n",
    "file_lists = os.listdir(data_path)\n",
    "\n",
    "variables = [\"Elevation_Alaska\"]\n",
    "\n",
    "for var in variables:\n",
    "    data_list = [f\"{data_path}{x}\" for x in file_lists if var in x and \".tif\" in x]\n",
    "    out_tif = f\"{out_path}{var}.tif\"\n",
    "    \n",
    "    options = gdal.WarpOptions(format='GTiff')\n",
    "    mosaic = gdal.Warp(out_tif, data_list, options=options)\n",
    "    mosaic = None \n",
    "    print(\"Mosaic created successfully at:\", out_tif)"
   ]
  },
  {
   "cell_type": "code",
   "execution_count": 13,
   "id": "36cd03ac-56b8-46f0-bd68-0edfdd8f5992",
   "metadata": {
    "execution": {
     "iopub.execute_input": "2024-07-12T19:07:30.103231Z",
     "iopub.status.busy": "2024-07-12T19:07:30.102420Z",
     "iopub.status.idle": "2024-07-12T19:12:27.451561Z",
     "shell.execute_reply": "2024-07-12T19:12:27.450755Z",
     "shell.execute_reply.started": "2024-07-12T19:07:30.103180Z"
    }
   },
   "outputs": [
    {
     "name": "stdout",
     "output_type": "stream",
     "text": [
      "D01_BART -71.75350494384766 43.562035369873044 -70.66015319824218 44.545073699951175\n",
      "D01_BART Elevation 2024-07-12 14:07:31 finished\n",
      "D01_BART Slope 2024-07-12 14:07:39 finished\n",
      "D01_BART Aspect 2024-07-12 14:07:46 finished\n",
      "D01_HARV -72.74523468017578 42.03336029052734 -71.72100524902343 43.04200286865235\n",
      "D01_HARV Elevation 2024-07-12 14:07:59 finished\n",
      "D01_HARV Slope 2024-07-12 14:08:06 finished\n",
      "D01_HARV Aspect 2024-07-12 14:08:14 finished\n",
      "D02_SCBI -78.57472534179688 38.52046661376953 -77.71292572021484 39.27803726196289\n",
      "D02_SCBI Elevation 2024-07-12 14:08:22 finished\n",
      "D02_SCBI Slope 2024-07-12 14:08:28 finished\n",
      "D02_SCBI Aspect 2024-07-12 14:08:34 finished\n",
      "D03_OSBS -82.44445343017578 29.2985408782959 -81.57926635742187 30.057671737670898\n",
      "D03_OSBS Elevation 2024-07-12 14:08:53 finished\n",
      "D03_OSBS Slope 2024-07-12 14:08:59 finished\n",
      "D03_OSBS Aspect 2024-07-12 14:09:04 finished\n",
      "D07_MLBS -81.1591064453125 36.89331893920898 -80.1043212890625 37.90365142822266\n",
      "D07_MLBS Elevation 2024-07-12 14:09:14 finished\n",
      "D07_MLBS Slope 2024-07-12 14:09:22 finished\n",
      "D07_MLBS Aspect 2024-07-12 14:09:29 finished\n",
      "D07_ORNL -84.87948150634766 35.478234100341794 -83.89168243408203 36.47207183837891\n",
      "D07_ORNL Elevation 2024-07-12 14:09:41 finished\n",
      "D07_ORNL Slope 2024-07-12 14:09:49 finished\n",
      "D07_ORNL Aspect 2024-07-12 14:09:57 finished\n",
      "D08_TALL -87.96290893554688 32.43535690307617 -86.81782989501953 33.463748168945315\n",
      "D08_TALL Elevation 2024-07-12 14:10:09 finished\n",
      "D08_TALL Slope 2024-07-12 14:10:16 finished\n",
      "D08_TALL Aspect 2024-07-12 14:10:24 finished\n",
      "D10_CPER -105.21370239257813 40.30416564941406 -104.18207244873047 41.30525894165039\n",
      "D10_CPER Elevation 2024-07-12 14:10:37 finished\n",
      "D10_CPER Slope 2024-07-12 14:10:45 finished\n",
      "D10_CPER Aspect 2024-07-12 14:10:52 finished\n",
      "D13_MOAB -109.84263153076172 37.86629180908203 -108.85702209472656 38.663062286376956\n",
      "D13_MOAB Elevation 2024-07-12 14:11:04 finished\n",
      "D13_MOAB Slope 2024-07-12 14:11:09 finished\n",
      "D13_MOAB Aspect 2024-07-12 14:11:13 finished\n",
      "D14_JORN -107.30126495361328 32.083466339111325 -106.31416778564453 33.190364074707034\n",
      "D14_JORN Elevation 2024-07-12 14:11:26 finished\n",
      "D14_JORN Slope 2024-07-12 14:11:30 finished\n",
      "D14_JORN Aspect 2024-07-12 14:11:32 finished\n",
      "D14_SRER -111.42507476806641 31.208821105957032 -110.21632080078125 32.355838012695315\n",
      "D14_SRER Elevation 2024-07-12 14:11:48 finished\n",
      "D14_SRER Slope 2024-07-12 14:11:54 finished\n",
      "D14_SRER Aspect 2024-07-12 14:12:00 finished\n",
      "D16_WREF -122.40880126953125 45.4764907836914 -121.51524047851562 46.21741409301758\n",
      "D16_WREF Elevation 2024-07-12 14:12:08 finished\n",
      "D16_WREF Slope 2024-07-12 14:12:13 finished\n",
      "D16_WREF Aspect 2024-07-12 14:12:19 finished\n",
      "D19_BONA -148.18014831542968 64.79449157714843 -146.84861450195314 65.55321807861328\n",
      "D19_BONA Elevation 2024-07-12 14:12:23 finished\n",
      "D19_BONA Slope 2024-07-12 14:12:23 finished\n",
      "D19_BONA Aspect 2024-07-12 14:12:23 finished\n",
      "D19_HEAL -149.84982604980468 63.50595932006836 -148.58155517578126 64.258837890625\n",
      "D19_HEAL Elevation 2024-07-12 14:12:26 finished\n",
      "D19_HEAL Slope 2024-07-12 14:12:27 finished\n",
      "D19_HEAL Aspect 2024-07-12 14:12:27 finished\n"
     ]
    }
   ],
   "source": [
    "## clip\n",
    "\n",
    "def read_tif(tif_file):\n",
    "    dataset = gdal.Open(tif_file)\n",
    "    cols = dataset.RasterXSize\n",
    "    rows = dataset.RasterYSize\n",
    "    im_proj = (dataset.GetProjection())\n",
    "    im_Geotrans = (dataset.GetGeoTransform())\n",
    "    im_data = np.moveaxis(dataset.ReadAsArray(0, 0, cols, rows), 0, -1)\n",
    "    return im_data, im_Geotrans, im_proj,rows, cols\n",
    "\n",
    "prisma_path = \"/Volumes/ChenLab/Fujiang/0_PhD_dissertation_data/2_PRISMA_L2D/2_PRISMA_L2D_tif_2020_2023/\"\n",
    "data_path = \"/Volumes/ChenLab/Fujiang/0_PhD_dissertation_data/8_topographic_data/2_mosaic_data/\"\n",
    "out_path = \"/Volumes/ChenLab/Fujiang/0_PhD_dissertation_data/8_topographic_data/3_clipped_NEON_extent/\"\n",
    "\n",
    "variables = [\"Elevation\", \"Slope\", \"Aspect\"]\n",
    "site_list = ['D01_BART','D01_HARV','D02_SCBI','D03_OSBS','D07_MLBS','D07_ORNL','D08_TALL',\n",
    "             'D10_CPER','D13_MOAB','D14_JORN','D14_SRER','D16_WREF','D19_BONA','D19_HEAL']\n",
    "\n",
    "for site in site_list:\n",
    "    path = f\"{prisma_path}{site}\"\n",
    "    file_list = os.listdir(path)\n",
    "    file_list = [x for x in file_list if \"LATLON.tif\" in x]\n",
    "\n",
    "    ul_x_all,lr_y_all, lr_x_all, ul_y_all = [],[],[],[]\n",
    "    for file in file_list:\n",
    "        im_data, im_Geotrans, im_proj,rows, cols = read_tif(f\"{path}/{file}\")\n",
    "        ul_x, lr_y, lr_x, ul_y = im_data[0,0,1],im_data[-1,-1,0],im_data[-1,-1,1],im_data[0,0,0]\n",
    "        ul_x_all.append(ul_x)\n",
    "        lr_y_all.append(lr_y)\n",
    "        lr_x_all.append(lr_x)\n",
    "        ul_y_all.append(ul_y)\n",
    "    ul_x, lr_y, lr_x, ul_y = min(ul_x_all),min(lr_y_all), max(lr_x_all), max(ul_y_all)\n",
    "    ul_x, lr_y, lr_x, ul_y = ul_x-0.2, lr_y-0.2, lr_x+0.2, ul_y+0.2\n",
    "    print(site, ul_x, lr_y, lr_x, ul_y)\n",
    "    \n",
    "    os.makedirs(f\"{out_path}{site}\", exist_ok=True)\n",
    "    for var in variables:\n",
    "        file = f\"{var}.tif\"\n",
    "        input_tif = f\"{data_path}{file}\"\n",
    "        output_tif =f\"{out_path}{site}/{file}\"\n",
    "        gdal.Warp(output_tif, input_tif, format = 'GTiff', outputBounds=(ul_x, lr_y, lr_x, ul_y))\n",
    "        input_tif = None\n",
    "        output_tif = None\n",
    "        print(site,var,datetime.now().strftime(\"%Y-%m-%d %H:%M:%S\"),\"finished\")\n",
    "        \n",
    "        ### transfer the projection of clipped data\n",
    "        in_tif = f\"{out_path}{site}/{file}\"\n",
    "\n",
    "        out_tif = f\"{out_path}{site}/{file}\"\n",
    "        input_ds = gdal.Open(in_tif)\n",
    "        output_ds = gdal.Warp(out_tif, input_ds, dstSRS=im_proj)\n",
    "        input_ds = None\n",
    "        output_ds = None"
   ]
  },
  {
   "cell_type": "code",
   "execution_count": null,
   "id": "2c7b77b7-226d-4040-8b0f-b0e758f475ab",
   "metadata": {},
   "outputs": [],
   "source": []
  }
 ],
 "metadata": {
  "kernelspec": {
   "display_name": "Python 3 (ipykernel)",
   "language": "python",
   "name": "python3"
  },
  "language_info": {
   "codemirror_mode": {
    "name": "ipython",
    "version": 3
   },
   "file_extension": ".py",
   "mimetype": "text/x-python",
   "name": "python",
   "nbconvert_exporter": "python",
   "pygments_lexer": "ipython3",
   "version": "3.7.13"
  },
  "toc": {
   "base_numbering": 1,
   "nav_menu": {},
   "number_sections": true,
   "sideBar": true,
   "skip_h1_title": false,
   "title_cell": "Table of Contents",
   "title_sidebar": "Contents",
   "toc_cell": false,
   "toc_position": {},
   "toc_section_display": true,
   "toc_window_display": false
  }
 },
 "nbformat": 4,
 "nbformat_minor": 5
}

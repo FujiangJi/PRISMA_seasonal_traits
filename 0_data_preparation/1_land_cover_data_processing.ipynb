{
 "cells": [
  {
   "cell_type": "code",
   "execution_count": null,
   "id": "5322b9f6-96f3-48dc-9f0d-42827604c490",
   "metadata": {
    "execution": {
     "iopub.execute_input": "2024-10-29T22:34:17.498779Z",
     "iopub.status.busy": "2024-10-29T22:34:17.498355Z",
     "iopub.status.idle": "2024-10-29T22:34:18.318808Z",
     "shell.execute_reply": "2024-10-29T22:34:18.318484Z",
     "shell.execute_reply.started": "2024-10-29T22:34:17.498748Z"
    }
   },
   "outputs": [],
   "source": [
    "import cartopy.io.shapereader as shpreader\n",
    "import matplotlib.pyplot as plt\n",
    "import geopandas as gpd\n",
    "import numpy as np\n",
    "import pandas as pd\n",
    "import os\n",
    "import sys\n",
    "from osgeo import gdal,ogr, osr"
   ]
  },
  {
   "cell_type": "code",
   "execution_count": null,
   "id": "5d13f50e-4640-47c2-a985-3fb6a1c700ef",
   "metadata": {
    "execution": {
     "iopub.execute_input": "2024-02-01T05:23:16.529890Z",
     "iopub.status.busy": "2024-02-01T05:23:16.528979Z",
     "iopub.status.idle": "2024-02-01T05:45:29.193321Z",
     "shell.execute_reply": "2024-02-01T05:45:29.192999Z",
     "shell.execute_reply.started": "2024-02-01T05:23:16.529822Z"
    }
   },
   "outputs": [],
   "source": [
    "## mosaic land cover data\n",
    "path = \"../1_original_chunks/\"\n",
    "\n",
    "file_list1 = os.listdir(f\"{path}{2020}\")\n",
    "file_list2 = os.listdir(f\"{path}{2021}\")\n",
    "file_list3 = os.listdir(f\"{path}{2022}\")\n",
    "\n",
    "d1 = [f\"{path}2020/{x}\" for x in file_list1]\n",
    "d2 = [f\"{path}2021/{x}\" for x in file_list2]\n",
    "d3 = [f\"{path}2022/{x}\" for x in file_list3]\n",
    "\n",
    "out1 = \"../2_mosaic_chunks/2020_US_land_cover.tif\"\n",
    "out2 = \"../2_mosaic_chunks/2021_US_land_cover.tif\"\n",
    "out3 = \"../2_mosaic_chunks/2022_US_land_cover.tif\"\n",
    "options = gdal.WarpOptions(format='GTiff')\n",
    "\n",
    "mosaic = gdal.Warp(out1, d1, options=options)\n",
    "mosaic = None \n",
    "print(\"Mosaic created successfully at:\", out1)\n",
    "\n",
    "mosaic = gdal.Warp(out2, d2, options=options)\n",
    "mosaic = None \n",
    "print(\"Mosaic created successfully at:\", out2)\n",
    "\n",
    "mosaic = gdal.Warp(out3, d3, options=options)\n",
    "mosaic = None \n",
    "print(\"Mosaic created successfully at:\", out3)"
   ]
  },
  {
   "cell_type": "code",
   "execution_count": null,
   "id": "1e528e61-436f-457a-babb-a89b13d59f58",
   "metadata": {
    "execution": {
     "iopub.execute_input": "2024-02-01T05:57:59.256973Z",
     "iopub.status.busy": "2024-02-01T05:57:59.256558Z",
     "iopub.status.idle": "2024-02-01T09:47:06.410884Z",
     "shell.execute_reply": "2024-02-01T09:47:06.410590Z",
     "shell.execute_reply.started": "2024-02-01T05:57:59.256946Z"
    }
   },
   "outputs": [],
   "source": [
    "## clip land cover data\n",
    "years = [2020,2021,2022]\n",
    "for year in years:\n",
    "    input_geotiff = f\"../2_mosaic_chunks/{year}_US_land_cover.tif\"\n",
    "    shapefile = \"../3_clipped_us_land_cover/us_shapefile/us.shp\"\n",
    "    output_geotiff = f\"../3_clipped_us_land_cover/{year}_US_land_cover_clipped.tif\"\n",
    "    \n",
    "    input_ds = gdal.Open(input_geotiff)\n",
    "    output_ds = gdal.Warp(output_geotiff, input_ds, cutlineDSName=shapefile, cropToCutline=True, dstNodata=0)\n",
    "    \n",
    "    input_ds = None\n",
    "    output_ds = None\n",
    "    shape_ds = None\n",
    "    print(year,\"finished\")"
   ]
  },
  {
   "cell_type": "code",
   "execution_count": null,
   "id": "c9fdf016-2553-4d98-a459-8279c3a89d5a",
   "metadata": {
    "execution": {
     "iopub.execute_input": "2024-02-01T18:12:30.363299Z",
     "iopub.status.busy": "2024-02-01T18:12:30.362273Z"
    }
   },
   "outputs": [],
   "source": [
    "## clip land cover data\n",
    "years = [2020,2021,2022]\n",
    "for year in years:\n",
    "    input_geotiff = f\"../3_clipped_us_land_cover/{year}_US_land_cover_clipped.tif\"\n",
    "    shapefile = \"../3_clipped_us_land_cover/us_shapefile/us_extent.shp\"\n",
    "    output_geotiff = f\"../3_clipped_us_land_cover/{year}_US_land_cover_clip.tif\"\n",
    "    \n",
    "    input_ds = gdal.Open(input_geotiff)\n",
    "    output_ds = gdal.Warp(output_geotiff, input_ds, cutlineDSName=shapefile, cropToCutline=True, dstNodata=0)\n",
    "    input_ds = None\n",
    "    output_ds = None\n",
    "    shape_ds = None\n",
    "    print(year,\"finished\")\n",
    "    os.remove(input_geotiff)"
   ]
  },
  {
   "cell_type": "code",
   "execution_count": null,
   "id": "c7f7d928-25c0-47a1-b628-9b956677e419",
   "metadata": {
    "execution": {
     "iopub.execute_input": "2024-10-29T22:38:18.508059Z",
     "iopub.status.busy": "2024-10-29T22:38:18.507547Z",
     "iopub.status.idle": "2024-10-29T22:38:32.931566Z",
     "shell.execute_reply": "2024-10-29T22:38:32.931197Z",
     "shell.execute_reply.started": "2024-10-29T22:38:18.508006Z"
    }
   },
   "outputs": [],
   "source": [
    "## clip using NEON site extent\n",
    "def read_tif(tif_file):\n",
    "    dataset = gdal.Open(tif_file)\n",
    "    cols = dataset.RasterXSize\n",
    "    rows = dataset.RasterYSize\n",
    "    im_proj = (dataset.GetProjection())\n",
    "    im_Geotrans = (dataset.GetGeoTransform())\n",
    "    im_data = np.moveaxis(dataset.ReadAsArray(0, 0, cols, rows), 0, -1)\n",
    "    return im_data, im_Geotrans, im_proj,rows, cols\n",
    "\n",
    "prisma_path = \"/Volumes/ChenLab/Fujiang/0_Seasonal_PRISMA_traits/2_PRISMA_L2D/7_PRISMA_latlon/\"\n",
    "land_use_path = \"/Volumes/ChenLab/Fujiang/0_Seasonal_PRISMA_traits/3_GLC_FCS30D_Land_cover_data_US/3_clipped_us_land_cover/\"\n",
    "out_path = \"/Volumes/ChenLab/Fujiang/0_Seasonal_PRISMA_traits/3_GLC_FCS30D_Land_cover_data_US/4_land_cover_NEON_sites/\"\n",
    "\n",
    "years = [2020,2021,2022]\n",
    "site_list = os.listdir(prisma_path)\n",
    "for site in site_list:\n",
    "    path = f\"{prisma_path}{site}\"\n",
    "    file_list = os.listdir(path)\n",
    "    file_list = [x for x in file_list if \"LATLON.tif\" in x]\n",
    "    os.makedirs(f\"{out_path}{site}\", exist_ok=True)\n",
    "    \n",
    "    ul_x_all,lr_y_all, lr_x_all, ul_y_all = [],[],[],[]\n",
    "    for file in file_list:\n",
    "        im_data, im_Geotrans, im_proj,rows, cols = read_tif(f\"{path}/{file}\")\n",
    "        ul_x, lr_y, lr_x, ul_y = im_data[0,0,1],im_data[-1,-1,0],im_data[-1,-1,1],im_data[0,0,0]\n",
    "        ul_x_all.append(ul_x)\n",
    "        lr_y_all.append(lr_y)\n",
    "        lr_x_all.append(lr_x)\n",
    "        ul_y_all.append(ul_y)\n",
    "    ul_x, lr_y, lr_x, ul_y = min(ul_x_all),min(lr_y_all), max(lr_x_all), max(ul_y_all)\n",
    "    ul_x, lr_y, lr_x, ul_y = ul_x-0.2, lr_y-0.2, lr_x+0.2, ul_y+0.2\n",
    "    for year in years:\n",
    "        input_tif = f\"{land_use_path}{year}_US_land_cover_clip.tif\"\n",
    "        output_tif = f\"{out_path}{site}/{site}_{year}_land_cover.tif\"\n",
    "        gdal.Warp(output_tif, input_tif, format = 'GTiff', outputBounds=(ul_x, lr_y, lr_x, ul_y))\n",
    "        input_tif = None\n",
    "        output_tif = None\n",
    "        print(site,year,\"finished\")\n",
    "        \n",
    "        ### transfer the projection of clipped land use data\n",
    "        in_tif = f\"{out_path}{site}/{site}_{year}_land_cover.tif\"\n",
    "        out_tif = f\"{out_path}{site}/{site}_{year}_land_cover.tif\"\n",
    "        input_ds = gdal.Open(in_tif)\n",
    "        output_ds = gdal.Warp(out_tif, input_ds, dstSRS=im_proj)"
   ]
  },
  {
   "cell_type": "code",
   "execution_count": null,
   "id": "9390b32f-71ef-41e2-a0b9-946eb15a844e",
   "metadata": {},
   "outputs": [],
   "source": []
  }
 ],
 "metadata": {
  "kernelspec": {
   "display_name": "Python 3 (ipykernel)",
   "language": "python",
   "name": "python3"
  },
  "language_info": {
   "codemirror_mode": {
    "name": "ipython",
    "version": 3
   },
   "file_extension": ".py",
   "mimetype": "text/x-python",
   "name": "python",
   "nbconvert_exporter": "python",
   "pygments_lexer": "ipython3",
   "version": "3.7.13"
  },
  "toc": {
   "base_numbering": 1,
   "nav_menu": {},
   "number_sections": true,
   "sideBar": true,
   "skip_h1_title": false,
   "title_cell": "Table of Contents",
   "title_sidebar": "Contents",
   "toc_cell": false,
   "toc_position": {},
   "toc_section_display": true,
   "toc_window_display": false
  }
 },
 "nbformat": 4,
 "nbformat_minor": 5
}
